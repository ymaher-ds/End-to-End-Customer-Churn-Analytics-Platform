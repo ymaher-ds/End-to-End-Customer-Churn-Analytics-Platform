{
 "cells": [
  {
   "cell_type": "markdown",
   "id": "d8ab36a2",
   "metadata": {},
   "source": [
    "# 2. Preprocessing & Feature Engineering"
   ]
  },
  {
   "cell_type": "markdown",
   "id": "5acc789f",
   "metadata": {},
   "source": [
    "In this notebook there are a series of decisions and transformations that needs to be executed before moving on to modeling.\n",
    "\n",
    "- Standardize column names (strip spaces, lower-case, replace spaces).\n",
    "- Drop ID column and any bookkeeping cols.\n",
    "- Ensure target is 0/1 int and cast types.\n",
    "- Split data first (train / test / optional val) with stratify=churn.\n",
    "- Handle multicollinearity (VIF / drop or combine correlated features) using train data only.\n",
    "- Run a quick baseline model (logistic + random forest) to validate preprocessing choices.\n",
    "- Apply resampling (SMOTE/oversample/undersample) only on the training set.\n",
    "- Handle skew / outliers (log/boxcox, clipping) using parameters fitted on train.\n",
    "- Encode categoricals (ordered mapping for Age/Charge, one-hot or target encoding).\n",
    "- Scale numeric features (StandardScaler / MinMax) as part of pipeline.\n",
    "- Persist preprocessing artifacts (scaler, encoders) and document decisions.\n"
   ]
  },
  {
   "cell_type": "code",
   "execution_count": 1,
   "id": "d148dc89",
   "metadata": {},
   "outputs": [],
   "source": [
    "import numpy as np\n",
    "import pandas as pd\n",
    "import matplotlib.pyplot as plt\n",
    "import seaborn as sns\n",
    "\n",
    "from sklearn.model_selection import train_test_split\n",
    "from sklearn.preprocessing import StandardScaler, OneHotEncoder"
   ]
  },
  {
   "cell_type": "code",
   "execution_count": 2,
   "id": "3d1f058a",
   "metadata": {},
   "outputs": [
    {
     "data": {
      "application/vnd.microsoft.datawrangler.viewer.v0+json": {
       "columns": [
        {
         "name": "index",
         "rawType": "int64",
         "type": "integer"
        },
        {
         "name": "Call  Failure",
         "rawType": "int64",
         "type": "integer"
        },
        {
         "name": "Complains",
         "rawType": "int64",
         "type": "integer"
        },
        {
         "name": "Subscription  Length",
         "rawType": "int64",
         "type": "integer"
        },
        {
         "name": "Charge  Amount",
         "rawType": "int64",
         "type": "integer"
        },
        {
         "name": "Seconds of Use",
         "rawType": "int64",
         "type": "integer"
        },
        {
         "name": "Frequency of use",
         "rawType": "int64",
         "type": "integer"
        },
        {
         "name": "Frequency of SMS",
         "rawType": "int64",
         "type": "integer"
        },
        {
         "name": "Distinct Called Numbers",
         "rawType": "int64",
         "type": "integer"
        },
        {
         "name": "Age Group",
         "rawType": "int64",
         "type": "integer"
        },
        {
         "name": "Tariff Plan",
         "rawType": "int64",
         "type": "integer"
        },
        {
         "name": "Status",
         "rawType": "int64",
         "type": "integer"
        },
        {
         "name": "Age",
         "rawType": "int64",
         "type": "integer"
        },
        {
         "name": "Customer Value",
         "rawType": "float64",
         "type": "float"
        },
        {
         "name": "Churn",
         "rawType": "int64",
         "type": "integer"
        }
       ],
       "ref": "f18771b5-2f35-4dae-8ee0-fd7b93171472",
       "rows": [
        [
         "0",
         "8",
         "0",
         "38",
         "0",
         "4370",
         "71",
         "5",
         "17",
         "3",
         "1",
         "1",
         "30",
         "197.64",
         "0"
        ],
        [
         "1",
         "0",
         "0",
         "39",
         "0",
         "318",
         "5",
         "7",
         "4",
         "2",
         "1",
         "2",
         "25",
         "46.035",
         "0"
        ],
        [
         "2",
         "10",
         "0",
         "37",
         "0",
         "2453",
         "60",
         "359",
         "24",
         "3",
         "1",
         "1",
         "30",
         "1536.52",
         "0"
        ],
        [
         "3",
         "10",
         "0",
         "38",
         "0",
         "4198",
         "66",
         "1",
         "35",
         "1",
         "1",
         "1",
         "15",
         "240.02",
         "0"
        ],
        [
         "4",
         "3",
         "0",
         "38",
         "0",
         "2393",
         "58",
         "2",
         "33",
         "1",
         "1",
         "1",
         "15",
         "145.805",
         "0"
        ]
       ],
       "shape": {
        "columns": 14,
        "rows": 5
       }
      },
      "text/html": [
       "<div>\n",
       "<style scoped>\n",
       "    .dataframe tbody tr th:only-of-type {\n",
       "        vertical-align: middle;\n",
       "    }\n",
       "\n",
       "    .dataframe tbody tr th {\n",
       "        vertical-align: top;\n",
       "    }\n",
       "\n",
       "    .dataframe thead th {\n",
       "        text-align: right;\n",
       "    }\n",
       "</style>\n",
       "<table border=\"1\" class=\"dataframe\">\n",
       "  <thead>\n",
       "    <tr style=\"text-align: right;\">\n",
       "      <th></th>\n",
       "      <th>Call  Failure</th>\n",
       "      <th>Complains</th>\n",
       "      <th>Subscription  Length</th>\n",
       "      <th>Charge  Amount</th>\n",
       "      <th>Seconds of Use</th>\n",
       "      <th>Frequency of use</th>\n",
       "      <th>Frequency of SMS</th>\n",
       "      <th>Distinct Called Numbers</th>\n",
       "      <th>Age Group</th>\n",
       "      <th>Tariff Plan</th>\n",
       "      <th>Status</th>\n",
       "      <th>Age</th>\n",
       "      <th>Customer Value</th>\n",
       "      <th>Churn</th>\n",
       "    </tr>\n",
       "  </thead>\n",
       "  <tbody>\n",
       "    <tr>\n",
       "      <th>0</th>\n",
       "      <td>8</td>\n",
       "      <td>0</td>\n",
       "      <td>38</td>\n",
       "      <td>0</td>\n",
       "      <td>4370</td>\n",
       "      <td>71</td>\n",
       "      <td>5</td>\n",
       "      <td>17</td>\n",
       "      <td>3</td>\n",
       "      <td>1</td>\n",
       "      <td>1</td>\n",
       "      <td>30</td>\n",
       "      <td>197.640</td>\n",
       "      <td>0</td>\n",
       "    </tr>\n",
       "    <tr>\n",
       "      <th>1</th>\n",
       "      <td>0</td>\n",
       "      <td>0</td>\n",
       "      <td>39</td>\n",
       "      <td>0</td>\n",
       "      <td>318</td>\n",
       "      <td>5</td>\n",
       "      <td>7</td>\n",
       "      <td>4</td>\n",
       "      <td>2</td>\n",
       "      <td>1</td>\n",
       "      <td>2</td>\n",
       "      <td>25</td>\n",
       "      <td>46.035</td>\n",
       "      <td>0</td>\n",
       "    </tr>\n",
       "    <tr>\n",
       "      <th>2</th>\n",
       "      <td>10</td>\n",
       "      <td>0</td>\n",
       "      <td>37</td>\n",
       "      <td>0</td>\n",
       "      <td>2453</td>\n",
       "      <td>60</td>\n",
       "      <td>359</td>\n",
       "      <td>24</td>\n",
       "      <td>3</td>\n",
       "      <td>1</td>\n",
       "      <td>1</td>\n",
       "      <td>30</td>\n",
       "      <td>1536.520</td>\n",
       "      <td>0</td>\n",
       "    </tr>\n",
       "    <tr>\n",
       "      <th>3</th>\n",
       "      <td>10</td>\n",
       "      <td>0</td>\n",
       "      <td>38</td>\n",
       "      <td>0</td>\n",
       "      <td>4198</td>\n",
       "      <td>66</td>\n",
       "      <td>1</td>\n",
       "      <td>35</td>\n",
       "      <td>1</td>\n",
       "      <td>1</td>\n",
       "      <td>1</td>\n",
       "      <td>15</td>\n",
       "      <td>240.020</td>\n",
       "      <td>0</td>\n",
       "    </tr>\n",
       "    <tr>\n",
       "      <th>4</th>\n",
       "      <td>3</td>\n",
       "      <td>0</td>\n",
       "      <td>38</td>\n",
       "      <td>0</td>\n",
       "      <td>2393</td>\n",
       "      <td>58</td>\n",
       "      <td>2</td>\n",
       "      <td>33</td>\n",
       "      <td>1</td>\n",
       "      <td>1</td>\n",
       "      <td>1</td>\n",
       "      <td>15</td>\n",
       "      <td>145.805</td>\n",
       "      <td>0</td>\n",
       "    </tr>\n",
       "  </tbody>\n",
       "</table>\n",
       "</div>"
      ],
      "text/plain": [
       "   Call  Failure  Complains  Subscription  Length  Charge  Amount  \\\n",
       "0              8          0                    38               0   \n",
       "1              0          0                    39               0   \n",
       "2             10          0                    37               0   \n",
       "3             10          0                    38               0   \n",
       "4              3          0                    38               0   \n",
       "\n",
       "   Seconds of Use  Frequency of use  Frequency of SMS  \\\n",
       "0            4370                71                 5   \n",
       "1             318                 5                 7   \n",
       "2            2453                60               359   \n",
       "3            4198                66                 1   \n",
       "4            2393                58                 2   \n",
       "\n",
       "   Distinct Called Numbers  Age Group  Tariff Plan  Status  Age  \\\n",
       "0                       17          3            1       1   30   \n",
       "1                        4          2            1       2   25   \n",
       "2                       24          3            1       1   30   \n",
       "3                       35          1            1       1   15   \n",
       "4                       33          1            1       1   15   \n",
       "\n",
       "   Customer Value  Churn  \n",
       "0         197.640      0  \n",
       "1          46.035      0  \n",
       "2        1536.520      0  \n",
       "3         240.020      0  \n",
       "4         145.805      0  "
      ]
     },
     "execution_count": 2,
     "metadata": {},
     "output_type": "execute_result"
    }
   ],
   "source": [
    "churn_data = pd.read_csv('Customer Churn.csv')\n",
    "churn_data.head()"
   ]
  },
  {
   "cell_type": "markdown",
   "id": "7aaa3e4d",
   "metadata": {},
   "source": [
    "### Standrizing column names"
   ]
  },
  {
   "cell_type": "code",
   "execution_count": 3,
   "id": "ef7874ee",
   "metadata": {},
   "outputs": [
    {
     "name": "stdout",
     "output_type": "stream",
     "text": [
      "Index(['Call  Failure', 'Complains', 'Subscription  Length', 'Charge  Amount',\n",
      "       'Seconds of Use', 'Frequency of use', 'Frequency of SMS',\n",
      "       'Distinct Called Numbers', 'Age Group', 'Tariff Plan', 'Status', 'Age',\n",
      "       'Customer Value', 'Churn'],\n",
      "      dtype='object')\n",
      "Index(['call_failure', 'complains', 'subscription_length', 'charge_amount',\n",
      "       'seconds_of_use', 'frequency_of_use', 'frequency_of_sms',\n",
      "       'distinct_called_numbers', 'age_group', 'tariff_plan', 'status', 'age',\n",
      "       'customer_value', 'churn'],\n",
      "      dtype='object')\n"
     ]
    }
   ],
   "source": [
    "# Standardize column names + basic checks\n",
    "print(churn_data.columns)\n",
    "churn_data.columns = (churn_data.columns\n",
    "                      .str.strip()\n",
    "                      .str.replace(r'\\s+', ' ', regex=True)\n",
    "                      .str.replace(' ', '_')\n",
    "                      .str.lower())\n",
    "print(churn_data.columns)"
   ]
  },
  {
   "cell_type": "markdown",
   "id": "67dff9ac",
   "metadata": {},
   "source": [
    "### Dropping unnecessary columns\n",
    "- The `ID` column is already dropped.\n",
    "- Drop the `age_group` since we already have the `age` column.\n",
    "- Ensuring that `churn` column is binary."
   ]
  },
  {
   "cell_type": "code",
   "execution_count": 4,
   "id": "1b63efee",
   "metadata": {},
   "outputs": [
    {
     "name": "stdout",
     "output_type": "stream",
     "text": [
      "Index(['call_failure', 'complains', 'subscription_length', 'charge_amount',\n",
      "       'seconds_of_use', 'frequency_of_use', 'frequency_of_sms',\n",
      "       'distinct_called_numbers', 'tariff_plan', 'status', 'age',\n",
      "       'customer_value', 'churn'],\n",
      "      dtype='object')\n"
     ]
    }
   ],
   "source": [
    "# drop age_group column\n",
    "churn_data = churn_data.drop(columns=['age_group'])\n",
    "print(churn_data.columns)"
   ]
  },
  {
   "cell_type": "code",
   "execution_count": 5,
   "id": "ee29aee1",
   "metadata": {},
   "outputs": [
    {
     "data": {
      "application/vnd.microsoft.datawrangler.viewer.v0+json": {
       "columns": [
        {
         "name": "churn",
         "rawType": "int64",
         "type": "integer"
        },
        {
         "name": "count",
         "rawType": "int64",
         "type": "integer"
        }
       ],
       "ref": "7ab33b53-3a81-4338-81e0-5ad19d6407a1",
       "rows": [
        [
         "0",
         "2655"
        ],
        [
         "1",
         "495"
        ]
       ],
       "shape": {
        "columns": 1,
        "rows": 2
       }
      },
      "text/plain": [
       "churn\n",
       "0    2655\n",
       "1     495\n",
       "Name: count, dtype: int64"
      ]
     },
     "execution_count": 5,
     "metadata": {},
     "output_type": "execute_result"
    }
   ],
   "source": [
    "# making sure that the target is binary\n",
    "churn_data['churn'].value_counts()"
   ]
  },
  {
   "cell_type": "markdown",
   "id": "ddb6e377",
   "metadata": {},
   "source": [
    "### Splitting the data"
   ]
  },
  {
   "cell_type": "code",
   "execution_count": 6,
   "id": "bc099faf",
   "metadata": {},
   "outputs": [],
   "source": [
    "train_data, test_data = train_test_split(churn_data, test_size=0.2, random_state=13, stratify=churn_data['churn'])"
   ]
  },
  {
   "cell_type": "code",
   "execution_count": 7,
   "id": "e39b7633",
   "metadata": {},
   "outputs": [
    {
     "data": {
      "text/plain": [
       "(2520, 630)"
      ]
     },
     "execution_count": 7,
     "metadata": {},
     "output_type": "execute_result"
    }
   ],
   "source": [
    "len(train_data), len(test_data)"
   ]
  },
  {
   "cell_type": "markdown",
   "id": "19f7ddd3",
   "metadata": {},
   "source": [
    "### Checking for Multicollinearity"
   ]
  },
  {
   "cell_type": "code",
   "execution_count": 8,
   "id": "bce9c977",
   "metadata": {},
   "outputs": [
    {
     "name": "stdout",
     "output_type": "stream",
     "text": [
      "customer_value             92.251337\n",
      "frequency_of_sms           56.836990\n",
      "seconds_of_use             47.348389\n",
      "frequency_of_use           45.383999\n",
      "age                        20.231720\n",
      "tariff_plan                18.944151\n",
      "status                     15.348647\n",
      "subscription_length        15.065965\n",
      "distinct_called_numbers     6.782807\n",
      "call_failure                6.111320\n",
      "charge_amount               4.217802\n",
      "complains                   1.253891\n",
      "dtype: float64\n"
     ]
    }
   ],
   "source": [
    "# VIF check (use train numeric columns)\n",
    "from statsmodels.stats.outliers_influence import variance_inflation_factor\n",
    "num_cols = train_data.select_dtypes(include='number').columns.drop('churn')\n",
    "X = train_data[num_cols].fillna(0)\n",
    "vif = pd.Series([variance_inflation_factor(X.values, i) for i in range(X.shape[1])], index=X.columns)\n",
    "print(vif.sort_values(ascending=False))"
   ]
  },
  {
   "cell_type": "markdown",
   "id": "71c0d33a",
   "metadata": {},
   "source": [
    "This was really expected since we already saw high correlation between some features while exploring the data in [01_data_exploration](01_data_exploration.ipynb).\n",
    "\n",
    "This result is screaming for an action. Specially, because we would like to use **Logistic Regression** which is heavily influenced by **Multicollinearity**.\n",
    "\n",
    "So, let's take the top 5 and examine them closely."
   ]
  },
  {
   "cell_type": "code",
   "execution_count": 9,
   "id": "6c06e715",
   "metadata": {},
   "outputs": [
    {
     "data": {
      "image/png": "[encoded data removed]",
      "text/plain": [
       "<Figure size 600x400 with 2 Axes>"
      ]
     },
     "metadata": {},
     "output_type": "display_data"
    }
   ],
   "source": [
    "# 1. show pairwise correlations for top cols\n",
    "top = ['customer_value','frequency_of_sms','seconds_of_use','frequency_of_use','distinct_called_numbers']\n",
    "plt.figure(figsize=(6,4))\n",
    "sns.heatmap(train_data[top].corr(), annot=True, cmap='coolwarm', vmin=-1, vmax=1)\n",
    "plt.title('Correlation Matrix for Top Features with High VIF')\n",
    "plt.show()"
   ]
  },
  {
   "cell_type": "markdown",
   "id": "92ffd978",
   "metadata": {},
   "source": [
    "As we can see there, there is pretty high correlation. We can either remove redundant features or combine them into one feature."
   ]
  },
  {
   "cell_type": "code",
   "execution_count": 10,
   "id": "9c4e50b7",
   "metadata": {},
   "outputs": [
    {
     "name": "stdout",
     "output_type": "stream",
     "text": [
      "VIF after dropping candidates:\n",
      " status                     15.071320\n",
      "subscription_length        14.611874\n",
      "tariff_plan                13.927704\n",
      "age                        13.449498\n",
      "frequency_of_use            9.421654\n",
      "distinct_called_numbers     6.618584\n",
      "customer_value              6.449337\n",
      "call_failure                5.505161\n",
      "avg_call_duration           4.563185\n",
      "sms_per_call                3.480605\n",
      "charge_amount               3.135795\n",
      "complains                   1.253828\n",
      "dtype: float64\n"
     ]
    }
   ],
   "source": [
    "# 2) create avg_call_duration and sms_per_call, handle zeros\n",
    "train_data_new_features = train_data.copy()\n",
    "train_data_new_features['avg_call_duration'] = train_data_new_features['seconds_of_use'] / train_data_new_features['frequency_of_use'].replace(0, np.nan)\n",
    "train_data_new_features['sms_per_call'] = train_data_new_features['frequency_of_sms'] / train_data_new_features['frequency_of_use'].replace(0, np.nan)\n",
    "\n",
    "# 3) drop or temporarily disable highly redundant raw cols (test effect)\n",
    "train_vif_cols = train_data_new_features.select_dtypes(include='number').columns.drop('churn').tolist()\n",
    "# e.g., drop frequency_of_sms and seconds_of_use to test\n",
    "candidate_drop = ['frequency_of_sms','seconds_of_use'] \n",
    "train_vif_test = train_data_new_features[train_vif_cols].drop(columns=[c for c in candidate_drop if c in train_vif_cols]).fillna(0)\n",
    "\n",
    "vif_test = pd.Series([variance_inflation_factor(train_vif_test.values, i)\n",
    "                      for i in range(train_vif_test.shape[1])],\n",
    "                     index=train_vif_test.columns).sort_values(ascending=False)\n",
    "print(\"VIF after dropping candidates:\\n\", vif_test)"
   ]
  },
  {
   "cell_type": "markdown",
   "id": "6d8fca9a",
   "metadata": {},
   "source": [
    "Although the VIF is still relatively high this is a huge improvement to our features"
   ]
  },
  {
   "cell_type": "code",
   "execution_count": 11,
   "id": "c6b749cb",
   "metadata": {},
   "outputs": [
    {
     "data": {
      "application/vnd.microsoft.datawrangler.viewer.v0+json": {
       "columns": [
        {
         "name": "index",
         "rawType": "int64",
         "type": "integer"
        },
        {
         "name": "call_failure",
         "rawType": "int64",
         "type": "integer"
        },
        {
         "name": "complains",
         "rawType": "int64",
         "type": "integer"
        },
        {
         "name": "subscription_length",
         "rawType": "int64",
         "type": "integer"
        },
        {
         "name": "charge_amount",
         "rawType": "int64",
         "type": "integer"
        },
        {
         "name": "seconds_of_use",
         "rawType": "int64",
         "type": "integer"
        },
        {
         "name": "frequency_of_use",
         "rawType": "int64",
         "type": "integer"
        },
        {
         "name": "frequency_of_sms",
         "rawType": "int64",
         "type": "integer"
        },
        {
         "name": "distinct_called_numbers",
         "rawType": "int64",
         "type": "integer"
        },
        {
         "name": "tariff_plan",
         "rawType": "int64",
         "type": "integer"
        },
        {
         "name": "status",
         "rawType": "int64",
         "type": "integer"
        },
        {
         "name": "age",
         "rawType": "int64",
         "type": "integer"
        },
        {
         "name": "customer_value",
         "rawType": "float64",
         "type": "float"
        },
        {
         "name": "churn",
         "rawType": "int64",
         "type": "integer"
        },
        {
         "name": "avg_call_duration",
         "rawType": "float64",
         "type": "float"
        },
        {
         "name": "sms_per_call",
         "rawType": "float64",
         "type": "float"
        }
       ],
       "ref": "c4443008-4fe5-4f4b-bc4d-121ab0fe9484",
       "rows": [
        [
         "1731",
         "0",
         "0",
         "34",
         "0",
         "513",
         "2",
         "11",
         "5",
         "1",
         "2",
         "45",
         "40.375",
         "1",
         "256.5",
         "5.5"
        ],
        [
         "449",
         "1",
         "0",
         "6",
         "1",
         "1308",
         "11",
         "0",
         "2",
         "1",
         "1",
         "30",
         "52.76",
         "1",
         "118.9090909090909",
         "0.0"
        ],
        [
         "2168",
         "8",
         "0",
         "41",
         "2",
         "365",
         "9",
         "12",
         "4",
         "1",
         "1",
         "30",
         "62.96",
         "1",
         "40.55555555555556",
         "1.3333333333333333"
        ],
        [
         "832",
         "2",
         "0",
         "41",
         "2",
         "338",
         "10",
         "12",
         "3",
         "1",
         "1",
         "55",
         "23.22",
         "0",
         "33.8",
         "1.2"
        ],
        [
         "1351",
         "0",
         "0",
         "31",
         "0",
         "0",
         "0",
         "0",
         "0",
         "1",
         "2",
         "25",
         "0.0",
         "0",
         null,
         null
        ]
       ],
       "shape": {
        "columns": 15,
        "rows": 5
       }
      },
      "text/html": [
       "<div>\n",
       "<style scoped>\n",
       "    .dataframe tbody tr th:only-of-type {\n",
       "        vertical-align: middle;\n",
       "    }\n",
       "\n",
       "    .dataframe tbody tr th {\n",
       "        vertical-align: top;\n",
       "    }\n",
       "\n",
       "    .dataframe thead th {\n",
       "        text-align: right;\n",
       "    }\n",
       "</style>\n",
       "<table border=\"1\" class=\"dataframe\">\n",
       "  <thead>\n",
       "    <tr style=\"text-align: right;\">\n",
       "      <th></th>\n",
       "      <th>call_failure</th>\n",
       "      <th>complains</th>\n",
       "      <th>subscription_length</th>\n",
       "      <th>charge_amount</th>\n",
       "      <th>seconds_of_use</th>\n",
       "      <th>frequency_of_use</th>\n",
       "      <th>frequency_of_sms</th>\n",
       "      <th>distinct_called_numbers</th>\n",
       "      <th>tariff_plan</th>\n",
       "      <th>status</th>\n",
       "      <th>age</th>\n",
       "      <th>customer_value</th>\n",
       "      <th>churn</th>\n",
       "      <th>avg_call_duration</th>\n",
       "      <th>sms_per_call</th>\n",
       "    </tr>\n",
       "  </thead>\n",
       "  <tbody>\n",
       "    <tr>\n",
       "      <th>1731</th>\n",
       "      <td>0</td>\n",
       "      <td>0</td>\n",
       "      <td>34</td>\n",
       "      <td>0</td>\n",
       "      <td>513</td>\n",
       "      <td>2</td>\n",
       "      <td>11</td>\n",
       "      <td>5</td>\n",
       "      <td>1</td>\n",
       "      <td>2</td>\n",
       "      <td>45</td>\n",
       "      <td>40.375</td>\n",
       "      <td>1</td>\n",
       "      <td>256.500000</td>\n",
       "      <td>5.500000</td>\n",
       "    </tr>\n",
       "    <tr>\n",
       "      <th>449</th>\n",
       "      <td>1</td>\n",
       "      <td>0</td>\n",
       "      <td>6</td>\n",
       "      <td>1</td>\n",
       "      <td>1308</td>\n",
       "      <td>11</td>\n",
       "      <td>0</td>\n",
       "      <td>2</td>\n",
       "      <td>1</td>\n",
       "      <td>1</td>\n",
       "      <td>30</td>\n",
       "      <td>52.760</td>\n",
       "      <td>1</td>\n",
       "      <td>118.909091</td>\n",
       "      <td>0.000000</td>\n",
       "    </tr>\n",
       "    <tr>\n",
       "      <th>2168</th>\n",
       "      <td>8</td>\n",
       "      <td>0</td>\n",
       "      <td>41</td>\n",
       "      <td>2</td>\n",
       "      <td>365</td>\n",
       "      <td>9</td>\n",
       "      <td>12</td>\n",
       "      <td>4</td>\n",
       "      <td>1</td>\n",
       "      <td>1</td>\n",
       "      <td>30</td>\n",
       "      <td>62.960</td>\n",
       "      <td>1</td>\n",
       "      <td>40.555556</td>\n",
       "      <td>1.333333</td>\n",
       "    </tr>\n",
       "    <tr>\n",
       "      <th>832</th>\n",
       "      <td>2</td>\n",
       "      <td>0</td>\n",
       "      <td>41</td>\n",
       "      <td>2</td>\n",
       "      <td>338</td>\n",
       "      <td>10</td>\n",
       "      <td>12</td>\n",
       "      <td>3</td>\n",
       "      <td>1</td>\n",
       "      <td>1</td>\n",
       "      <td>55</td>\n",
       "      <td>23.220</td>\n",
       "      <td>0</td>\n",
       "      <td>33.800000</td>\n",
       "      <td>1.200000</td>\n",
       "    </tr>\n",
       "    <tr>\n",
       "      <th>1351</th>\n",
       "      <td>0</td>\n",
       "      <td>0</td>\n",
       "      <td>31</td>\n",
       "      <td>0</td>\n",
       "      <td>0</td>\n",
       "      <td>0</td>\n",
       "      <td>0</td>\n",
       "      <td>0</td>\n",
       "      <td>1</td>\n",
       "      <td>2</td>\n",
       "      <td>25</td>\n",
       "      <td>0.000</td>\n",
       "      <td>0</td>\n",
       "      <td>NaN</td>\n",
       "      <td>NaN</td>\n",
       "    </tr>\n",
       "  </tbody>\n",
       "</table>\n",
       "</div>"
      ],
      "text/plain": [
       "      call_failure  complains  subscription_length  charge_amount  \\\n",
       "1731             0          0                   34              0   \n",
       "449              1          0                    6              1   \n",
       "2168             8          0                   41              2   \n",
       "832              2          0                   41              2   \n",
       "1351             0          0                   31              0   \n",
       "\n",
       "      seconds_of_use  frequency_of_use  frequency_of_sms  \\\n",
       "1731             513                 2                11   \n",
       "449             1308                11                 0   \n",
       "2168             365                 9                12   \n",
       "832              338                10                12   \n",
       "1351               0                 0                 0   \n",
       "\n",
       "      distinct_called_numbers  tariff_plan  status  age  customer_value  \\\n",
       "1731                        5            1       2   45          40.375   \n",
       "449                         2            1       1   30          52.760   \n",
       "2168                        4            1       1   30          62.960   \n",
       "832                         3            1       1   55          23.220   \n",
       "1351                        0            1       2   25           0.000   \n",
       "\n",
       "      churn  avg_call_duration  sms_per_call  \n",
       "1731      1         256.500000      5.500000  \n",
       "449       1         118.909091      0.000000  \n",
       "2168      1          40.555556      1.333333  \n",
       "832       0          33.800000      1.200000  \n",
       "1351      0                NaN           NaN  "
      ]
     },
     "execution_count": 11,
     "metadata": {},
     "output_type": "execute_result"
    }
   ],
   "source": [
    "train_data_new_features.head()"
   ]
  },
  {
   "cell_type": "markdown",
   "id": "9d52e82a",
   "metadata": {},
   "source": [
    "### Testing the old and new features using **Logistic Regression**"
   ]
  },
  {
   "cell_type": "code",
   "execution_count": 12,
   "id": "cae97ad5",
   "metadata": {},
   "outputs": [
    {
     "name": "stdout",
     "output_type": "stream",
     "text": [
      "LR ROC-AUC: 0.9282040744109918\n",
      "RF  ROC-AUC: 0.9850855567477769\n"
     ]
    }
   ],
   "source": [
    "# Quick CV comparison: logistic (L2) vs random forest (roc_auc)\n",
    "from sklearn.model_selection import cross_val_score, StratifiedKFold\n",
    "from sklearn.linear_model import LogisticRegression\n",
    "from sklearn.ensemble import RandomForestClassifier\n",
    "\n",
    "y = train_data_new_features['churn']\n",
    "X_full = train_data_new_features.drop(columns=['churn']).fillna(0)\n",
    "cv = StratifiedKFold(n_splits=5, shuffle=True, random_state=42)\n",
    "lr = LogisticRegression(max_iter=2000, solver='liblinear', penalty='l2', C=1.0)\n",
    "rf = RandomForestClassifier(n_estimators=100, random_state=42, n_jobs=-1)\n",
    "\n",
    "print(\"LR ROC-AUC:\", cross_val_score(lr, X_full, y, cv=cv, scoring='roc_auc').mean())\n",
    "print(\"RF  ROC-AUC:\", cross_val_score(rf, X_full, y, cv=cv, scoring='roc_auc').mean())"
   ]
  },
  {
   "cell_type": "code",
   "execution_count": 13,
   "id": "55367d72",
   "metadata": {},
   "outputs": [
    {
     "name": "stdout",
     "output_type": "stream",
     "text": [
      "LR ROC-AUC: 0.9252764122845221\n",
      "RF  ROC-AUC: 0.9836038758798242\n"
     ]
    }
   ],
   "source": [
    "# Quick CV comparison: logistic (L2) vs random forest (roc_auc)\n",
    "from sklearn.model_selection import cross_val_score, StratifiedKFold\n",
    "from sklearn.linear_model import LogisticRegression\n",
    "from sklearn.ensemble import RandomForestClassifier\n",
    "\n",
    "y = train_data['churn']\n",
    "X_full = train_data.drop(columns=['churn']).fillna(0)\n",
    "cv = StratifiedKFold(n_splits=5, shuffle=True, random_state=42)\n",
    "lr = LogisticRegression(max_iter=2000, solver='liblinear', penalty='l2', C=1.0)\n",
    "rf = RandomForestClassifier(n_estimators=100, random_state=42, n_jobs=-1)\n",
    "\n",
    "print(\"LR ROC-AUC:\", cross_val_score(lr, X_full, y, cv=cv, scoring='roc_auc').mean())\n",
    "print(\"RF  ROC-AUC:\", cross_val_score(rf, X_full, y, cv=cv, scoring='roc_auc').mean())"
   ]
  },
  {
   "cell_type": "code",
   "execution_count": 14,
   "id": "d5ea66aa",
   "metadata": {},
   "outputs": [
    {
     "data": {
      "application/vnd.microsoft.datawrangler.viewer.v0+json": {
       "columns": [
        {
         "name": "index",
         "rawType": "int64",
         "type": "integer"
        },
        {
         "name": "call_failure",
         "rawType": "int64",
         "type": "integer"
        },
        {
         "name": "complains",
         "rawType": "int64",
         "type": "integer"
        },
        {
         "name": "subscription_length",
         "rawType": "int64",
         "type": "integer"
        },
        {
         "name": "charge_amount",
         "rawType": "int64",
         "type": "integer"
        },
        {
         "name": "seconds_of_use",
         "rawType": "int64",
         "type": "integer"
        },
        {
         "name": "frequency_of_use",
         "rawType": "int64",
         "type": "integer"
        },
        {
         "name": "frequency_of_sms",
         "rawType": "int64",
         "type": "integer"
        },
        {
         "name": "distinct_called_numbers",
         "rawType": "int64",
         "type": "integer"
        },
        {
         "name": "tariff_plan",
         "rawType": "int64",
         "type": "integer"
        },
        {
         "name": "status",
         "rawType": "int64",
         "type": "integer"
        },
        {
         "name": "age",
         "rawType": "int64",
         "type": "integer"
        },
        {
         "name": "customer_value",
         "rawType": "float64",
         "type": "float"
        },
        {
         "name": "churn",
         "rawType": "int64",
         "type": "integer"
        }
       ],
       "ref": "4f89e2c6-d362-405d-bcc9-72bee0efe9c0",
       "rows": [
        [
         "1731",
         "0",
         "0",
         "34",
         "0",
         "513",
         "2",
         "11",
         "5",
         "1",
         "2",
         "45",
         "40.375",
         "1"
        ],
        [
         "449",
         "1",
         "0",
         "6",
         "1",
         "1308",
         "11",
         "0",
         "2",
         "1",
         "1",
         "30",
         "52.76",
         "1"
        ],
        [
         "2168",
         "8",
         "0",
         "41",
         "2",
         "365",
         "9",
         "12",
         "4",
         "1",
         "1",
         "30",
         "62.96",
         "1"
        ],
        [
         "832",
         "2",
         "0",
         "41",
         "2",
         "338",
         "10",
         "12",
         "3",
         "1",
         "1",
         "55",
         "23.22",
         "0"
        ],
        [
         "1351",
         "0",
         "0",
         "31",
         "0",
         "0",
         "0",
         "0",
         "0",
         "1",
         "2",
         "25",
         "0.0",
         "0"
        ]
       ],
       "shape": {
        "columns": 13,
        "rows": 5
       }
      },
      "text/html": [
       "<div>\n",
       "<style scoped>\n",
       "    .dataframe tbody tr th:only-of-type {\n",
       "        vertical-align: middle;\n",
       "    }\n",
       "\n",
       "    .dataframe tbody tr th {\n",
       "        vertical-align: top;\n",
       "    }\n",
       "\n",
       "    .dataframe thead th {\n",
       "        text-align: right;\n",
       "    }\n",
       "</style>\n",
       "<table border=\"1\" class=\"dataframe\">\n",
       "  <thead>\n",
       "    <tr style=\"text-align: right;\">\n",
       "      <th></th>\n",
       "      <th>call_failure</th>\n",
       "      <th>complains</th>\n",
       "      <th>subscription_length</th>\n",
       "      <th>charge_amount</th>\n",
       "      <th>seconds_of_use</th>\n",
       "      <th>frequency_of_use</th>\n",
       "      <th>frequency_of_sms</th>\n",
       "      <th>distinct_called_numbers</th>\n",
       "      <th>tariff_plan</th>\n",
       "      <th>status</th>\n",
       "      <th>age</th>\n",
       "      <th>customer_value</th>\n",
       "      <th>churn</th>\n",
       "    </tr>\n",
       "  </thead>\n",
       "  <tbody>\n",
       "    <tr>\n",
       "      <th>1731</th>\n",
       "      <td>0</td>\n",
       "      <td>0</td>\n",
       "      <td>34</td>\n",
       "      <td>0</td>\n",
       "      <td>513</td>\n",
       "      <td>2</td>\n",
       "      <td>11</td>\n",
       "      <td>5</td>\n",
       "      <td>1</td>\n",
       "      <td>2</td>\n",
       "      <td>45</td>\n",
       "      <td>40.375</td>\n",
       "      <td>1</td>\n",
       "    </tr>\n",
       "    <tr>\n",
       "      <th>449</th>\n",
       "      <td>1</td>\n",
       "      <td>0</td>\n",
       "      <td>6</td>\n",
       "      <td>1</td>\n",
       "      <td>1308</td>\n",
       "      <td>11</td>\n",
       "      <td>0</td>\n",
       "      <td>2</td>\n",
       "      <td>1</td>\n",
       "      <td>1</td>\n",
       "      <td>30</td>\n",
       "      <td>52.760</td>\n",
       "      <td>1</td>\n",
       "    </tr>\n",
       "    <tr>\n",
       "      <th>2168</th>\n",
       "      <td>8</td>\n",
       "      <td>0</td>\n",
       "      <td>41</td>\n",
       "      <td>2</td>\n",
       "      <td>365</td>\n",
       "      <td>9</td>\n",
       "      <td>12</td>\n",
       "      <td>4</td>\n",
       "      <td>1</td>\n",
       "      <td>1</td>\n",
       "      <td>30</td>\n",
       "      <td>62.960</td>\n",
       "      <td>1</td>\n",
       "    </tr>\n",
       "    <tr>\n",
       "      <th>832</th>\n",
       "      <td>2</td>\n",
       "      <td>0</td>\n",
       "      <td>41</td>\n",
       "      <td>2</td>\n",
       "      <td>338</td>\n",
       "      <td>10</td>\n",
       "      <td>12</td>\n",
       "      <td>3</td>\n",
       "      <td>1</td>\n",
       "      <td>1</td>\n",
       "      <td>55</td>\n",
       "      <td>23.220</td>\n",
       "      <td>0</td>\n",
       "    </tr>\n",
       "    <tr>\n",
       "      <th>1351</th>\n",
       "      <td>0</td>\n",
       "      <td>0</td>\n",
       "      <td>31</td>\n",
       "      <td>0</td>\n",
       "      <td>0</td>\n",
       "      <td>0</td>\n",
       "      <td>0</td>\n",
       "      <td>0</td>\n",
       "      <td>1</td>\n",
       "      <td>2</td>\n",
       "      <td>25</td>\n",
       "      <td>0.000</td>\n",
       "      <td>0</td>\n",
       "    </tr>\n",
       "  </tbody>\n",
       "</table>\n",
       "</div>"
      ],
      "text/plain": [
       "      call_failure  complains  subscription_length  charge_amount  \\\n",
       "1731             0          0                   34              0   \n",
       "449              1          0                    6              1   \n",
       "2168             8          0                   41              2   \n",
       "832              2          0                   41              2   \n",
       "1351             0          0                   31              0   \n",
       "\n",
       "      seconds_of_use  frequency_of_use  frequency_of_sms  \\\n",
       "1731             513                 2                11   \n",
       "449             1308                11                 0   \n",
       "2168             365                 9                12   \n",
       "832              338                10                12   \n",
       "1351               0                 0                 0   \n",
       "\n",
       "      distinct_called_numbers  tariff_plan  status  age  customer_value  churn  \n",
       "1731                        5            1       2   45          40.375      1  \n",
       "449                         2            1       1   30          52.760      1  \n",
       "2168                        4            1       1   30          62.960      1  \n",
       "832                         3            1       1   55          23.220      0  \n",
       "1351                        0            1       2   25           0.000      0  "
      ]
     },
     "execution_count": 14,
     "metadata": {},
     "output_type": "execute_result"
    }
   ],
   "source": [
    "train_data.head()"
   ]
  },
  {
   "cell_type": "code",
   "execution_count": null,
   "id": "e048cb86",
   "metadata": {},
   "outputs": [],
   "source": []
  }
 ],
 "metadata": {
  "kernelspec": {
   "display_name": "Python 3",
   "language": "python",
   "name": "python3"
  },
  "language_info": {
   "codemirror_mode": {
    "name": "ipython",
    "version": 3
   },
   "file_extension": ".py",
   "mimetype": "text/x-python",
   "name": "python",
   "nbconvert_exporter": "python",
   "pygments_lexer": "ipython3",
   "version": "3.12.5"
  }
 },
 "nbformat": 4,
 "nbformat_minor": 5
}
